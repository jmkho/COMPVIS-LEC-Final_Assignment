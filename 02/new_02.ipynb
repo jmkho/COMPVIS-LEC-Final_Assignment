{
 "cells": [
  {
   "cell_type": "code",
   "execution_count": null,
   "metadata": {},
   "outputs": [],
   "source": [
    "import cv2\n",
    "import os\n",
    "import matplotlib.pyplot as plt\n",
    "from sklearn.model_selection import train_test_split\n",
    "from sklearn import svm"
   ]
  },
  {
   "attachments": {},
   "cell_type": "markdown",
   "metadata": {},
   "source": [
    "#### Flowers"
   ]
  },
  {
   "cell_type": "code",
   "execution_count": null,
   "metadata": {},
   "outputs": [],
   "source": [
    "flowers_path = '02/input/flowers'\n",
    "flowers_name = os.listdir(flowers_path)"
   ]
  },
  {
   "cell_type": "code",
   "execution_count": null,
   "metadata": {},
   "outputs": [],
   "source": [
    "flower_database = []\n",
    "flower_label = []\n",
    "\n",
    "for idx, flower_image in enumerate(flowers_name):\n",
    "    path = flowers_path+'/'+flowers_name\n",
    "\n",
    "    for img in os.listdir(path):\n",
    "        image = cv2.imread(path+'/'+img, 0)\n",
    "        # gray = cv2.cvtColor(image, cv2.COLOR_BGR2GRAY)\n",
    "        flower_database.append(image)\n",
    "        flower_label.append(idx)\n",
    "\n",
    "flower_train = zip(flower_database, flower_label)"
   ]
  },
  {
   "cell_type": "code",
   "execution_count": null,
   "metadata": {},
   "outputs": [],
   "source": [
    "x_train, x_test, y_train, y_test = train_test_split(flower_database, flower_label)\n",
    "print(x_train.shape)"
   ]
  },
  {
   "cell_type": "code",
   "execution_count": null,
   "metadata": {},
   "outputs": [],
   "source": [
    "flowers_test_path = '02/test_images/flowers'\n",
    "flower_test = []\n",
    "\n",
    "for i in os.listdir(flowers_test_path):\n",
    "    image = cv2.imread(flowers_test_path+'/'+i, 0)\n",
    "    flower_test.append(image)"
   ]
  }
 ],
 "metadata": {
  "kernelspec": {
   "display_name": "Python 3",
   "language": "python",
   "name": "python3"
  },
  "language_info": {
   "name": "python",
   "version": "3.7.6 (tags/v3.7.6:43364a7ae0, Dec 19 2019, 00:42:30) [MSC v.1916 64 bit (AMD64)]"
  },
  "orig_nbformat": 4,
  "vscode": {
   "interpreter": {
    "hash": "d4fda8514bed4dbac83cc795c3014346393b2c62b99073a4a957f0b6e4226b84"
   }
  }
 },
 "nbformat": 4,
 "nbformat_minor": 2
}
